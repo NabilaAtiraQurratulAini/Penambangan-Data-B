{
  "cells": [
    {
      "cell_type": "markdown",
      "metadata": {
        "id": "view-in-github",
        "colab_type": "text"
      },
      "source": [
        "<a href=\"https://colab.research.google.com/github/NabilaAtiraQurratulAini/Penambangan-Data-B/blob/main/210411100066_Nabila_Atira_Qurratul_Aini_Penambangan_Data_Tugas_1.ipynb\" target=\"_parent\"><img src=\"https://colab.research.google.com/assets/colab-badge.svg\" alt=\"Open In Colab\"/></a>"
      ]
    },
    {
      "cell_type": "markdown",
      "id": "4b6705b3",
      "metadata": {
        "id": "4b6705b3"
      },
      "source": [
        "# PENGAMBILAN DATA"
      ]
    },
    {
      "cell_type": "markdown",
      "id": "7259f3e5",
      "metadata": {
        "id": "7259f3e5"
      },
      "source": [
        "Menarik data iris di github dari postgresql yang kemudian dibaca dengan python dan dijadikan data frame"
      ]
    },
    {
      "cell_type": "code",
      "execution_count": null,
      "id": "822b3fbd",
      "metadata": {
        "id": "822b3fbd",
        "outputId": "ee727e5f-14e2-4478-b203-8d1c19eab9f9"
      },
      "outputs": [
        {
          "name": "stdout",
          "output_type": "stream",
          "text": [
            "Requirement already satisfied: psycopg2 in c:\\users\\asus\\appdata\\local\\programs\\python\\python310\\lib\\site-packages (2.9.5)\n"
          ]
        }
      ],
      "source": [
        "!pip install psycopg2"
      ]
    },
    {
      "cell_type": "code",
      "execution_count": null,
      "id": "0cb09815",
      "metadata": {
        "id": "0cb09815",
        "outputId": "76798223-9e69-46e6-eddf-48731b00f36b"
      },
      "outputs": [
        {
          "name": "stdout",
          "output_type": "stream",
          "text": [
            "Requirement already satisfied: pandas in c:\\users\\asus\\appdata\\local\\programs\\python\\python310\\lib\\site-packages (1.5.3)\n",
            "Requirement already satisfied: python-dateutil>=2.8.1 in c:\\users\\asus\\appdata\\local\\programs\\python\\python310\\lib\\site-packages (from pandas) (2.8.2)\n",
            "Requirement already satisfied: pytz>=2020.1 in c:\\users\\asus\\appdata\\local\\programs\\python\\python310\\lib\\site-packages (from pandas) (2022.1)\n",
            "Requirement already satisfied: numpy>=1.21.0 in c:\\users\\asus\\appdata\\local\\programs\\python\\python310\\lib\\site-packages (from pandas) (1.24.2)\n",
            "Requirement already satisfied: six>=1.5 in c:\\users\\asus\\appdata\\local\\programs\\python\\python310\\lib\\site-packages (from python-dateutil>=2.8.1->pandas) (1.16.0)\n"
          ]
        }
      ],
      "source": [
        "!pip install pandas"
      ]
    },
    {
      "cell_type": "code",
      "execution_count": null,
      "id": "7ed8ba89",
      "metadata": {
        "id": "7ed8ba89"
      },
      "outputs": [],
      "source": [
        "import pandas as pd\n",
        "import psycopg2 as ps"
      ]
    },
    {
      "cell_type": "markdown",
      "id": "71159415",
      "metadata": {
        "id": "71159415"
      },
      "source": [
        "# KONEKSI DATA"
      ]
    },
    {
      "cell_type": "code",
      "execution_count": null,
      "id": "0e100ecf",
      "metadata": {
        "id": "0e100ecf"
      },
      "outputs": [],
      "source": [
        "conn2 = ps.connect (dbname = \"postgres\",\n",
        "                   user = \"postgres\",\n",
        "                   password = \"bangkalan11\",\n",
        "                   host = \"localhost\",\n",
        "                   port = \"5432\")"
      ]
    },
    {
      "cell_type": "code",
      "execution_count": null,
      "id": "15657856",
      "metadata": {
        "id": "15657856"
      },
      "outputs": [],
      "source": [
        "import psycopg2\n",
        "import pandas as pd\n",
        "\n",
        "# Connection parameters, yours will be different\n",
        "param_dic = {\n",
        "    \"host\"      : \"localhost\",\n",
        "    \"database\"  : \"postgres\",\n",
        "    \"user\"      : \"postgres\",\n",
        "    \"password\"  : \"bangkalan11\"\n",
        "}\n",
        "def connect(params_dic):\n",
        "    \"\"\" Connect to the PostgreSQL database server \"\"\"\n",
        "    conn = None\n",
        "    try:\n",
        "        # connect to the PostgreSQL server\n",
        "        print('Connecting to the PostgreSQL database...')\n",
        "        conn = psycopg2.connect(**params_dic)\n",
        "    except (Exception, psycopg2.DatabaseError) as error:\n",
        "        print(error)\n",
        "        sys.exit(1) \n",
        "    print(\"Connection successful\")\n",
        "    return conn"
      ]
    },
    {
      "cell_type": "code",
      "execution_count": null,
      "id": "8f8b99d3",
      "metadata": {
        "id": "8f8b99d3"
      },
      "outputs": [],
      "source": [
        "def postgresql_to_dataframe(conn, select_query, column_names):\n",
        "    \"\"\"\n",
        "    Tranform a SELECT query into a pandas dataframe\n",
        "    \"\"\"\n",
        "    cursor = conn.cursor()\n",
        "    try:\n",
        "        cursor.execute(select_query)\n",
        "    except (Exception, psycopg2.DatabaseError) as error:\n",
        "        print(\"Error: %s\" % error)\n",
        "        cursor.close()\n",
        "        return 1\n",
        "    \n",
        "    # Naturally we get a list of tupples\n",
        "    tupples = cursor.fetchall()\n",
        "    cursor.close()\n",
        "    \n",
        "    # We just need to turn it into a pandas dataframe\n",
        "    df = pd.DataFrame(tupples, columns=column_names)\n",
        "    return df"
      ]
    },
    {
      "cell_type": "markdown",
      "id": "2611439b",
      "metadata": {
        "id": "2611439b"
      },
      "source": [
        "# MENAMPILKAN DATAFRAME DATABASE"
      ]
    },
    {
      "cell_type": "code",
      "execution_count": null,
      "id": "3b766190",
      "metadata": {
        "id": "3b766190",
        "outputId": "5f3064f3-c28a-4028-aa7e-0aa54a3a8de1"
      },
      "outputs": [
        {
          "name": "stdout",
          "output_type": "stream",
          "text": [
            "Connecting to the PostgreSQL database...\n",
            "Connection successful\n"
          ]
        },
        {
          "data": {
            "text/html": [
              "<div>\n",
              "<style scoped>\n",
              "    .dataframe tbody tr th:only-of-type {\n",
              "        vertical-align: middle;\n",
              "    }\n",
              "\n",
              "    .dataframe tbody tr th {\n",
              "        vertical-align: top;\n",
              "    }\n",
              "\n",
              "    .dataframe thead th {\n",
              "        text-align: right;\n",
              "    }\n",
              "</style>\n",
              "<table border=\"1\" class=\"dataframe\">\n",
              "  <thead>\n",
              "    <tr style=\"text-align: right;\">\n",
              "      <th></th>\n",
              "      <th>sepal_length</th>\n",
              "      <th>sepal_width</th>\n",
              "      <th>petal_length</th>\n",
              "      <th>petal_width</th>\n",
              "      <th>variety</th>\n",
              "    </tr>\n",
              "  </thead>\n",
              "  <tbody>\n",
              "    <tr>\n",
              "      <th>0</th>\n",
              "      <td>5.1</td>\n",
              "      <td>3.5</td>\n",
              "      <td>1.4</td>\n",
              "      <td>.2</td>\n",
              "      <td>Setosa</td>\n",
              "    </tr>\n",
              "    <tr>\n",
              "      <th>1</th>\n",
              "      <td>4.9</td>\n",
              "      <td>3</td>\n",
              "      <td>1.4</td>\n",
              "      <td>.2</td>\n",
              "      <td>Setosa</td>\n",
              "    </tr>\n",
              "    <tr>\n",
              "      <th>2</th>\n",
              "      <td>4.7</td>\n",
              "      <td>3.2</td>\n",
              "      <td>1.3</td>\n",
              "      <td>.2</td>\n",
              "      <td>Setosa</td>\n",
              "    </tr>\n",
              "    <tr>\n",
              "      <th>3</th>\n",
              "      <td>4.6</td>\n",
              "      <td>3.1</td>\n",
              "      <td>1.5</td>\n",
              "      <td>.2</td>\n",
              "      <td>Setosa</td>\n",
              "    </tr>\n",
              "    <tr>\n",
              "      <th>4</th>\n",
              "      <td>5</td>\n",
              "      <td>3.6</td>\n",
              "      <td>1.4</td>\n",
              "      <td>.2</td>\n",
              "      <td>Setosa</td>\n",
              "    </tr>\n",
              "  </tbody>\n",
              "</table>\n",
              "</div>"
            ],
            "text/plain": [
              "  sepal_length sepal_width petal_length petal_width variety\n",
              "0          5.1         3.5          1.4          .2  Setosa\n",
              "1          4.9           3          1.4          .2  Setosa\n",
              "2          4.7         3.2          1.3          .2  Setosa\n",
              "3          4.6         3.1          1.5          .2  Setosa\n",
              "4            5         3.6          1.4          .2  Setosa"
            ]
          },
          "execution_count": 8,
          "metadata": {},
          "output_type": "execute_result"
        }
      ],
      "source": [
        "# Connect to the database\n",
        "conn = connect(param_dic)\n",
        "column_names = [\"sepal_length\", \"sepal_width\", \"petal_length\", \"petal_width\", \"variety\"]\n",
        "\n",
        "# Execute the \"SELECT *\" query\n",
        "df = postgresql_to_dataframe(conn, \"select * from iris\", column_names)\n",
        "df.head()"
      ]
    }
  ],
  "metadata": {
    "kernelspec": {
      "display_name": "Python 3 (ipykernel)",
      "language": "python",
      "name": "python3"
    },
    "language_info": {
      "codemirror_mode": {
        "name": "ipython",
        "version": 3
      },
      "file_extension": ".py",
      "mimetype": "text/x-python",
      "name": "python",
      "nbconvert_exporter": "python",
      "pygments_lexer": "ipython3",
      "version": "3.10.0"
    },
    "colab": {
      "provenance": [],
      "include_colab_link": true
    }
  },
  "nbformat": 4,
  "nbformat_minor": 5
}